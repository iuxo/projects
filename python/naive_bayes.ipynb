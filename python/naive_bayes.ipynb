{
 "cells": [
  {
   "cell_type": "code",
   "execution_count": 2,
   "metadata": {},
   "outputs": [],
   "source": [
    "import numpy as np\n",
    "import matplotlib.pyplot as plt\n",
    "import pandas as pd\n",
    "import os"
   ]
  },
  {
   "cell_type": "code",
   "execution_count": 3,
   "metadata": {},
   "outputs": [],
   "source": [
    "# import data set\n",
    "train = pd.read_csv('data/naive_bayes_train.csv')\n",
    "test = pd.read_csv('data/naive_bayes_train.csv')"
   ]
  },
  {
   "cell_type": "code",
   "execution_count": 4,
   "metadata": {},
   "outputs": [
    {
     "data": {
      "text/html": [
       "<div>\n",
       "<style scoped>\n",
       "    .dataframe tbody tr th:only-of-type {\n",
       "        vertical-align: middle;\n",
       "    }\n",
       "\n",
       "    .dataframe tbody tr th {\n",
       "        vertical-align: top;\n",
       "    }\n",
       "\n",
       "    .dataframe thead th {\n",
       "        text-align: right;\n",
       "    }\n",
       "</style>\n",
       "<table border=\"1\" class=\"dataframe\">\n",
       "  <thead>\n",
       "    <tr style=\"text-align: right;\">\n",
       "      <th></th>\n",
       "      <th>qid</th>\n",
       "      <th>question_text</th>\n",
       "      <th>target</th>\n",
       "    </tr>\n",
       "  </thead>\n",
       "  <tbody>\n",
       "    <tr>\n",
       "      <th>0</th>\n",
       "      <td>00002165364db923c7e6</td>\n",
       "      <td>How did Quebec nationalists see their province...</td>\n",
       "      <td>0</td>\n",
       "    </tr>\n",
       "    <tr>\n",
       "      <th>1</th>\n",
       "      <td>000032939017120e6e44</td>\n",
       "      <td>Do you have an adopted dog, how would you enco...</td>\n",
       "      <td>0</td>\n",
       "    </tr>\n",
       "    <tr>\n",
       "      <th>2</th>\n",
       "      <td>0000412ca6e4628ce2cf</td>\n",
       "      <td>Why does velocity affect time? Does velocity a...</td>\n",
       "      <td>0</td>\n",
       "    </tr>\n",
       "    <tr>\n",
       "      <th>3</th>\n",
       "      <td>000042bf85aa498cd78e</td>\n",
       "      <td>How did Otto von Guericke used the Magdeburg h...</td>\n",
       "      <td>0</td>\n",
       "    </tr>\n",
       "    <tr>\n",
       "      <th>4</th>\n",
       "      <td>0000455dfa3e01eae3af</td>\n",
       "      <td>Can I convert montra helicon D to a mountain b...</td>\n",
       "      <td>0</td>\n",
       "    </tr>\n",
       "  </tbody>\n",
       "</table>\n",
       "</div>"
      ],
      "text/plain": [
       "                    qid                                      question_text  \\\n",
       "0  00002165364db923c7e6  How did Quebec nationalists see their province...   \n",
       "1  000032939017120e6e44  Do you have an adopted dog, how would you enco...   \n",
       "2  0000412ca6e4628ce2cf  Why does velocity affect time? Does velocity a...   \n",
       "3  000042bf85aa498cd78e  How did Otto von Guericke used the Magdeburg h...   \n",
       "4  0000455dfa3e01eae3af  Can I convert montra helicon D to a mountain b...   \n",
       "\n",
       "   target  \n",
       "0       0  \n",
       "1       0  \n",
       "2       0  \n",
       "3       0  \n",
       "4       0  "
      ]
     },
     "execution_count": 4,
     "metadata": {},
     "output_type": "execute_result"
    }
   ],
   "source": [
    "train.head()"
   ]
  },
  {
   "cell_type": "code",
   "execution_count": 9,
   "metadata": {},
   "outputs": [
    {
     "data": {
      "text/html": [
       "<div>\n",
       "<style scoped>\n",
       "    .dataframe tbody tr th:only-of-type {\n",
       "        vertical-align: middle;\n",
       "    }\n",
       "\n",
       "    .dataframe tbody tr th {\n",
       "        vertical-align: top;\n",
       "    }\n",
       "\n",
       "    .dataframe thead th {\n",
       "        text-align: right;\n",
       "    }\n",
       "</style>\n",
       "<table border=\"1\" class=\"dataframe\">\n",
       "  <thead>\n",
       "    <tr style=\"text-align: right;\">\n",
       "      <th></th>\n",
       "      <th>qid</th>\n",
       "      <th>question_text</th>\n",
       "      <th>target</th>\n",
       "    </tr>\n",
       "  </thead>\n",
       "  <tbody>\n",
       "    <tr>\n",
       "      <th>1231273</th>\n",
       "      <td>f149df66b98147046031</td>\n",
       "      <td>How it is possible to sex with mom?</td>\n",
       "      <td>1</td>\n",
       "    </tr>\n",
       "    <tr>\n",
       "      <th>1134748</th>\n",
       "      <td>de685e8057015762908d</td>\n",
       "      <td>When will academia stop perpetuating the lie t...</td>\n",
       "      <td>1</td>\n",
       "    </tr>\n",
       "    <tr>\n",
       "      <th>1061175</th>\n",
       "      <td>cfee1f3c369dde467e41</td>\n",
       "      <td>Does hindutva ask to kill human in the name of...</td>\n",
       "      <td>1</td>\n",
       "    </tr>\n",
       "    <tr>\n",
       "      <th>24585</th>\n",
       "      <td>04d1b9adfe8071da6e51</td>\n",
       "      <td>Do Trump haters, by definition, realize that t...</td>\n",
       "      <td>1</td>\n",
       "    </tr>\n",
       "    <tr>\n",
       "      <th>1055404</th>\n",
       "      <td>ced0c56b188f5cdc79c5</td>\n",
       "      <td>Do Brahmins have Iranian ancestry? Why aren't ...</td>\n",
       "      <td>1</td>\n",
       "    </tr>\n",
       "  </tbody>\n",
       "</table>\n",
       "</div>"
      ],
      "text/plain": [
       "                          qid  \\\n",
       "1231273  f149df66b98147046031   \n",
       "1134748  de685e8057015762908d   \n",
       "1061175  cfee1f3c369dde467e41   \n",
       "24585    04d1b9adfe8071da6e51   \n",
       "1055404  ced0c56b188f5cdc79c5   \n",
       "\n",
       "                                             question_text  target  \n",
       "1231273                How it is possible to sex with mom?       1  \n",
       "1134748  When will academia stop perpetuating the lie t...       1  \n",
       "1061175  Does hindutva ask to kill human in the name of...       1  \n",
       "24585    Do Trump haters, by definition, realize that t...       1  \n",
       "1055404  Do Brahmins have Iranian ancestry? Why aren't ...       1  "
      ]
     },
     "execution_count": 9,
     "metadata": {},
     "output_type": "execute_result"
    }
   ],
   "source": [
    "# insincere has target 1\n",
    "# sincere has target 0\n",
    "train[train.target == 1].sample(5)"
   ]
  },
  {
   "cell_type": "code",
   "execution_count": 10,
   "metadata": {},
   "outputs": [
    {
     "data": {
      "text/html": [
       "<div>\n",
       "<style scoped>\n",
       "    .dataframe tbody tr th:only-of-type {\n",
       "        vertical-align: middle;\n",
       "    }\n",
       "\n",
       "    .dataframe tbody tr th {\n",
       "        vertical-align: top;\n",
       "    }\n",
       "\n",
       "    .dataframe thead th {\n",
       "        text-align: right;\n",
       "    }\n",
       "</style>\n",
       "<table border=\"1\" class=\"dataframe\">\n",
       "  <thead>\n",
       "    <tr style=\"text-align: right;\">\n",
       "      <th></th>\n",
       "      <th>qid</th>\n",
       "      <th>question_text</th>\n",
       "      <th>target</th>\n",
       "    </tr>\n",
       "  </thead>\n",
       "  <tbody>\n",
       "    <tr>\n",
       "      <th>1217012</th>\n",
       "      <td>ee854767bc32394a4e3d</td>\n",
       "      <td>Why is Wendy Williams proportional with to a s...</td>\n",
       "      <td>0</td>\n",
       "    </tr>\n",
       "    <tr>\n",
       "      <th>675801</th>\n",
       "      <td>845965ff38cf622a041f</td>\n",
       "      <td>Why do I get so many calls where the caller ju...</td>\n",
       "      <td>0</td>\n",
       "    </tr>\n",
       "    <tr>\n",
       "      <th>851469</th>\n",
       "      <td>a6d53e1aa25db5195c1e</td>\n",
       "      <td>What are the pros and cons of commercial armies?</td>\n",
       "      <td>0</td>\n",
       "    </tr>\n",
       "    <tr>\n",
       "      <th>597678</th>\n",
       "      <td>7511968f236906ea76b3</td>\n",
       "      <td>How is sadness and pleasure similar?</td>\n",
       "      <td>0</td>\n",
       "    </tr>\n",
       "    <tr>\n",
       "      <th>315856</th>\n",
       "      <td>3de7d29bed4c9c1ef1df</td>\n",
       "      <td>What are the must visit points in VASCO and mu...</td>\n",
       "      <td>0</td>\n",
       "    </tr>\n",
       "  </tbody>\n",
       "</table>\n",
       "</div>"
      ],
      "text/plain": [
       "                          qid  \\\n",
       "1217012  ee854767bc32394a4e3d   \n",
       "675801   845965ff38cf622a041f   \n",
       "851469   a6d53e1aa25db5195c1e   \n",
       "597678   7511968f236906ea76b3   \n",
       "315856   3de7d29bed4c9c1ef1df   \n",
       "\n",
       "                                             question_text  target  \n",
       "1217012  Why is Wendy Williams proportional with to a s...       0  \n",
       "675801   Why do I get so many calls where the caller ju...       0  \n",
       "851469    What are the pros and cons of commercial armies?       0  \n",
       "597678                How is sadness and pleasure similar?       0  \n",
       "315856   What are the must visit points in VASCO and mu...       0  "
      ]
     },
     "execution_count": 10,
     "metadata": {},
     "output_type": "execute_result"
    }
   ],
   "source": [
    "train[train.target == 0].sample(5)"
   ]
  },
  {
   "cell_type": "code",
   "execution_count": 12,
   "metadata": {},
   "outputs": [
    {
     "name": "stdout",
     "output_type": "stream",
     "text": [
      "Can we build up a strong love affair with a person who is 9 years older than us?\n"
     ]
    }
   ],
   "source": [
    "samp = train.sample(1)\n",
    "sentence = samp.iloc[0]['question_text']\n",
    "print (sentence)"
   ]
  },
  {
   "cell_type": "code",
   "execution_count": 13,
   "metadata": {},
   "outputs": [
    {
     "name": "stdout",
     "output_type": "stream",
     "text": [
      "Sentence after removing numbers\n",
      " Can we build up a strong love affair with a person who is  years older than us?\n",
      "Sentence After Removing Punctuations\n",
      " Can we build up a strong love affair with a person who is  years older than us\n"
     ]
    }
   ],
   "source": [
    "# preprocess text\n",
    "import re\n",
    "sentence = re.sub(r'\\d+', '', sentence)\n",
    "print('Sentence after removing numbers\\n', sentence)\n",
    "#Removing Punctuations in a string.\n",
    "\n",
    "import string\n",
    "sentence = sentence.translate(sentence.maketrans(\"\",\"\",string.punctuation))\n",
    "print ('Sentence After Removing Punctuations\\n',sentence)"
   ]
  },
  {
   "cell_type": "code",
   "execution_count": 14,
   "metadata": {},
   "outputs": [
    {
     "name": "stdout",
     "output_type": "stream",
     "text": [
      "['', 'strong', 'Can', 'build', 'years', 'affair', 'older', 'us', 'love', 'person']\n"
     ]
    },
    {
     "name": "stderr",
     "output_type": "stream",
     "text": [
      "[nltk_data] Downloading package punkt to\n",
      "[nltk_data]     C:\\Users\\jared\\AppData\\Roaming\\nltk_data...\n",
      "[nltk_data]   Package punkt is already up-to-date!\n",
      "[nltk_data] Downloading package stopwords to\n",
      "[nltk_data]     C:\\Users\\jared\\AppData\\Roaming\\nltk_data...\n",
      "[nltk_data]   Package stopwords is already up-to-date!\n"
     ]
    }
   ],
   "source": [
    "# use nltk to remove stopwords\n",
    "import nltk\n",
    "nltk.download('punkt')\n",
    "nltk.download('stopwords')\n",
    "stop_words = set(nltk.corpus.stopwords.words('english'))\n",
    "words_in_sentence = list(set(sentence.split(' ')) - stop_words)\n",
    "print (words_in_sentence)"
   ]
  },
  {
   "cell_type": "code",
   "execution_count": 15,
   "metadata": {},
   "outputs": [
    {
     "name": "stdout",
     "output_type": "stream",
     "text": [
      "['', 'strong', 'can', 'build', 'year', 'affair', 'older', 'us', 'love', 'person']\n"
     ]
    },
    {
     "name": "stderr",
     "output_type": "stream",
     "text": [
      "[nltk_data] Downloading package wordnet to\n",
      "[nltk_data]     C:\\Users\\jared\\AppData\\Roaming\\nltk_data...\n",
      "[nltk_data]   Package wordnet is already up-to-date!\n"
     ]
    }
   ],
   "source": [
    "# stemmer from nltk\n",
    "from nltk.stem import PorterStemmer\n",
    "nltk.download('wordnet')\n",
    "stemmer= PorterStemmer()\n",
    "for i,word in enumerate(words_in_sentence):\n",
    "    words_in_sentence[i] = stemmer.stem(word)\n",
    "print (words_in_sentence)   "
   ]
  },
  {
   "cell_type": "code",
   "execution_count": 16,
   "metadata": {},
   "outputs": [],
   "source": [
    "from sklearn.model_selection import train_test_split\n",
    "train, test = train_test_split(train, test_size=0.2)"
   ]
  },
  {
   "cell_type": "code",
   "execution_count": 17,
   "metadata": {},
   "outputs": [],
   "source": [
    "word_count = {}\n",
    "word_count_sincere = {}\n",
    "word_count_insincere = {}\n",
    "sincere  = 0\n",
    "insincere = 0 "
   ]
  },
  {
   "cell_type": "code",
   "execution_count": 18,
   "metadata": {},
   "outputs": [],
   "source": [
    "stemmer = PorterStemmer()"
   ]
  },
  {
   "cell_type": "code",
   "execution_count": 20,
   "metadata": {},
   "outputs": [],
   "source": [
    "row_count = train.shape[0]\n",
    "for row in range(0,row_count):\n",
    "    insincere += train.iloc[row]['target']\n",
    "    sincere += (1 - train.iloc[row]['target'])\n",
    "    sentence = train.iloc[row]['question_text']\n",
    "    sentence = re.sub(r'\\d+','',sentence)\n",
    "    sentence = sentence.translate(sentence.maketrans(\"\",\"\",string.punctuation))\n",
    "    words_in_sentence = list(set(sentence.split(' ')) - stop_words)\n",
    "    for index,word in enumerate(words_in_sentence):\n",
    "        word = stemmer.stem(word)\n",
    "    for word in words_in_sentence:\n",
    "        if train.iloc[row]['target'] == 0:   #Sincere Words\n",
    "            if word in word_count_sincere.keys():\n",
    "                word_count_sincere[word]+=1\n",
    "            else:\n",
    "                word_count_sincere[word] = 1\n",
    "        elif train.iloc[row]['target'] == 1: #Insincere Words\n",
    "            if word in word_count_insincere.keys():\n",
    "                word_count_insincere[word]+=1\n",
    "            else:\n",
    "                word_count_insincere[word] = 1\n",
    "        if word in word_count.keys():        #For all words. I use this to compute probability.\n",
    "            word_count[word]+=1\n",
    "        else:\n",
    "            word_count[word]=1\n",
    "\n",
    "print('Done')"
   ]
  },
  {
   "cell_type": "code",
   "execution_count": null,
   "metadata": {},
   "outputs": [],
   "source": [
    "word_probability = {}\n",
    "total_words = 0\n",
    "for i in word_count:\n",
    "    total_words += word_count[i]\n",
    "for i in word_count:\n",
    "    word_probability[i] = word_count[i] / total_words\n",
    "\n",
    "#Eliminating words which are insignificant. Insignificant words are words which have a probability of occurence less than 0.0001.\n",
    "print ('Total words ',len(word_probability))\n",
    "print ('Minimum probability ',min (word_probability.values()))\n",
    "threshold_p = 0.0001\n",
    "for i in list(word_probability):\n",
    "    if word_probability[i] < threshold_p:\n",
    "        del word_probability[i]\n",
    "        if i in list(word_count_sincere):   #list(dict) return it;s key elements\n",
    "            del word_count_sincere[i]\n",
    "        if i in list(word_count_insincere):  \n",
    "            del word_count_insincere[i]\n",
    "print ('Total words ',len(word_probability))"
   ]
  },
  {
   "cell_type": "code",
   "execution_count": null,
   "metadata": {},
   "outputs": [],
   "source": []
  }
 ],
 "metadata": {
  "kernelspec": {
   "display_name": "THE_ONE",
   "language": "python",
   "name": "python3"
  },
  "language_info": {
   "codemirror_mode": {
    "name": "ipython",
    "version": 3
   },
   "file_extension": ".py",
   "mimetype": "text/x-python",
   "name": "python",
   "nbconvert_exporter": "python",
   "pygments_lexer": "ipython3",
   "version": "3.8.13"
  },
  "orig_nbformat": 4,
  "vscode": {
   "interpreter": {
    "hash": "ba21b04416bd6bb7d943d6e1e30db1b014094e2c4596ae230c1b8e6f1c8e2c12"
   }
  }
 },
 "nbformat": 4,
 "nbformat_minor": 2
}
